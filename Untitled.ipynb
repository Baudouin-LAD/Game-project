{
 "cells": [
  {
   "cell_type": "code",
   "execution_count": 37,
   "id": "20edb5c5",
   "metadata": {},
   "outputs": [
    {
     "ename": "TypeError",
     "evalue": "list indices must be integers or slices, not list",
     "output_type": "error",
     "traceback": [
      "\u001b[0;31m---------------------------------------------------------------------------\u001b[0m",
      "\u001b[0;31mTypeError\u001b[0m                                 Traceback (most recent call last)",
      "\u001b[0;32m/var/folders/3m/1c5hlk4x4qq78rxn2d26fd6w0000gn/T/ipykernel_49094/1033233783.py\u001b[0m in \u001b[0;36m<module>\u001b[0;34m\u001b[0m\n\u001b[1;32m     44\u001b[0m \u001b[0;34m\u001b[0m\u001b[0m\n\u001b[1;32m     45\u001b[0m \u001b[0mbrain\u001b[0m\u001b[0;34m(\u001b[0m\u001b[0;34m)\u001b[0m\u001b[0;34m\u001b[0m\u001b[0;34m\u001b[0m\u001b[0m\n\u001b[0;32m---> 46\u001b[0;31m \u001b[0mAIturn\u001b[0m\u001b[0;34m(\u001b[0m\u001b[0;34m)\u001b[0m\u001b[0;34m\u001b[0m\u001b[0;34m\u001b[0m\u001b[0m\n\u001b[0m",
      "\u001b[0;32m/var/folders/3m/1c5hlk4x4qq78rxn2d26fd6w0000gn/T/ipykernel_49094/1033233783.py\u001b[0m in \u001b[0;36mAIturn\u001b[0;34m()\u001b[0m\n\u001b[1;32m     36\u001b[0m         \u001b[0;32mif\u001b[0m \u001b[0mrisktest\u001b[0m\u001b[0;34m.\u001b[0m\u001b[0mindex\u001b[0m\u001b[0;34m(\u001b[0m\u001b[0mbrain\u001b[0m\u001b[0;34m(\u001b[0m\u001b[0;34m)\u001b[0m\u001b[0;34m)\u001b[0m\u001b[0;34m==\u001b[0m \u001b[0;36m0\u001b[0m \u001b[0;34m:\u001b[0m\u001b[0;34m\u001b[0m\u001b[0;34m\u001b[0m\u001b[0m\n\u001b[1;32m     37\u001b[0m             \u001b[0mlai\u001b[0m \u001b[0;34m=\u001b[0m \u001b[0;36m1\u001b[0m\u001b[0;34m\u001b[0m\u001b[0;34m\u001b[0m\u001b[0m\n\u001b[0;32m---> 38\u001b[0;31m             \u001b[0mcai\u001b[0m \u001b[0;34m=\u001b[0m \u001b[0mweight\u001b[0m\u001b[0;34m(\u001b[0m\u001b[0mrisktest\u001b[0m\u001b[0;34m[\u001b[0m\u001b[0mbrain\u001b[0m\u001b[0;34m(\u001b[0m\u001b[0;34m)\u001b[0m\u001b[0;34m]\u001b[0m\u001b[0;34m)\u001b[0m\u001b[0;34m[\u001b[0m\u001b[0;36m1\u001b[0m\u001b[0;34m]\u001b[0m\u001b[0;34m\u001b[0m\u001b[0;34m\u001b[0m\u001b[0m\n\u001b[0m\u001b[1;32m     39\u001b[0m         \u001b[0;32melse\u001b[0m \u001b[0;34m:\u001b[0m\u001b[0;34m\u001b[0m\u001b[0;34m\u001b[0m\u001b[0m\n\u001b[1;32m     40\u001b[0m              \u001b[0mlai\u001b[0m \u001b[0;34m=\u001b[0m \u001b[0;36m1\u001b[0m\u001b[0;34m\u001b[0m\u001b[0;34m\u001b[0m\u001b[0m\n",
      "\u001b[0;31mTypeError\u001b[0m: list indices must be integers or slices, not list"
     ]
    }
   ],
   "source": [
    "import random\n",
    "L1=['X',' ','X']                                        #définitions des lignes possibles à vérifier\n",
    "L2 = ['O',' ',' ']\n",
    "L3 = [' ',' ',' ']\n",
    "C1 = ['X','O',' ']\n",
    "C2 = [' ',' ','0']\n",
    "C3 = ['X',' ',' ']\n",
    "D1 = ['X',' ',' ']\n",
    "D2 = ['X',' ',' ']\n",
    "risktest = [L1 , L2 , L3 , C1 , C2 , C3 , D1 , D2]\n",
    "risktest2 = [['X',' ','X'],['O',' ',' ']]\n",
    "\n",
    "def weight(l) :\n",
    "    if l.count('X') == 2:\n",
    "        result = [l.index(' '),l]\n",
    "    else:\n",
    "        result = False\n",
    "    return result\n",
    "\n",
    "def brain() :\n",
    "    for l in risktest:\n",
    "        if weight(l) != False:\n",
    "            result = list(l)\n",
    "            break\n",
    "        else:\n",
    "            result = False\n",
    "    return result\n",
    "\n",
    "def AIturn():\n",
    "    lai = 0\n",
    "    cai = 0\n",
    "    if brain() is False:\n",
    "        lai = random.randrange(1,3)\n",
    "        cai = random.randrange(1,3)\n",
    "    else:\n",
    "        if risktest.index(brain())== 0 :\n",
    "            lai = 1\n",
    "            cai = weight(risktest.[brain()])[1]\n",
    "        else :\n",
    "             lai = 1\n",
    "             cai = 1\n",
    "            \n",
    "    return[lai,cai]\n",
    "\n",
    "brain()\n",
    "AIturn()"
   ]
  },
  {
   "cell_type": "code",
   "execution_count": 66,
   "id": "b5cb179c",
   "metadata": {},
   "outputs": [
    {
     "name": "stdout",
     "output_type": "stream",
     "text": [
      "[1, 2]\n"
     ]
    },
    {
     "data": {
      "text/plain": [
       "[1, 2]"
      ]
     },
     "execution_count": 66,
     "metadata": {},
     "output_type": "execute_result"
    }
   ],
   "source": [
    "import random\n",
    "L1=['X',' ','X']                                        #définitions des lignes possibles à vérifier\n",
    "L2 = ['O',' ',' ']\n",
    "L3 = [' ',' ',' ']\n",
    "C1 = ['X','O',' ']\n",
    "C2 = [' ',' ','0']\n",
    "C3 = ['X',' ',' ']\n",
    "D1 = ['X',' ',' ']\n",
    "D2 = ['X',' ',' ']\n",
    "risk = [L1 , L2 , L3 , C1 , C2 , C3 , D1 , D2]\n",
    "\n",
    "def brain() :\n",
    "    r = [l for l in risk if l.count('X') == 2]\n",
    "    if len(r) >= 1:\n",
    "        result = [r[0].index(' '),risk.index(list(r[0]))]\n",
    "    else:\n",
    "        result = [False]\n",
    "    return result\n",
    "def AIturn():\n",
    "    lai = 0\n",
    "    cai = 0\n",
    "    if brain()[0] is False:\n",
    "        lai = random.randrange(1,3)\n",
    "        cai = random.randrange(1,3)\n",
    "    elif brain()[1] == 0 :\n",
    "        lai = 1\n",
    "        cai = brain()[0]+1\n",
    "    else :\n",
    "        lai = 1\n",
    "        cai = 1\n",
    "            \n",
    "    return[lai,cai]\n",
    "\n",
    "print(AIturn())\n",
    "AIturn()"
   ]
  },
  {
   "cell_type": "code",
   "execution_count": 129,
   "id": "45dacdee",
   "metadata": {},
   "outputs": [
    {
     "name": "stdout",
     "output_type": "stream",
     "text": [
      "1\n"
     ]
    }
   ],
   "source": [
    "lnumbers = [1,2,3,4,5,6,7,8,9]\n",
    "l = ['X','-','X','-','-','-','-','-','-']\n",
    "L1 = [l[0],l[1],l[2]]\n",
    "L2 = [l[3],l[4],l[5]]\n",
    "L3 = [l[6],l[7],l[8]]\n",
    "C1 = [l[0],l[3],l[6]]\n",
    "C2 = [l[1],l[4],l[7]]\n",
    "C3 = [l[2],l[5],l[8]]\n",
    "D1 = [l[0],l[4],l[8]]\n",
    "D2 = [l[2],l[4],l[6]]\n",
    "R = [L1,L2,L3,C1,C2,C3,D1,D2]\n",
    "C = [l[0],l[2],l[6],l[8]]\n",
    "S = [l[1],l[3],l[5],l[7]]\n",
    "squares = [l[0],l[1],l[2],l[3],l[4],l[5],l[6],l[7],l[8]]\n",
    "turn = 0\n",
    "def grid(l):\n",
    "    print(' ',l[0],' | ',l[1],' | ',l[2],' \\n ',l[3],' | ',l[4],' | ',l[5],' \\n ',l[6],' | ',l[7],' | ',l[8])\n",
    "    return\n",
    "\n",
    "def check_win(x):\n",
    "    #count winning move for 'x':\n",
    "    cx = [l for l in R if l.count(x)==2 and l.count('-')==1]\n",
    "    if len(cx) > 0 :\n",
    "        r = [cx[0].index('-'),R.index(cx[0])]\n",
    "        if r[1] == 0:\n",
    "            result = cx[0].index('-')\n",
    "        elif r[1] == 1:\n",
    "            result = cx[O].index('-')+3\n",
    "        elif r[1] == 2:\n",
    "            result = cx[O].index('-')+6\n",
    "        elif r[1] == 3:\n",
    "            result = cx[O].index('-')*3\n",
    "        elif r[1] == 4:\n",
    "            result = cx[O].index('-')*3+1\n",
    "        elif r[1] == 4:\n",
    "            result = cx[O].index('-')*3+2   \n",
    "    else:\n",
    "        result = 'NO'\n",
    "    return result\n",
    "print(check_win('X'))"
   ]
  },
  {
   "cell_type": "code",
   "execution_count": 128,
   "id": "5c336356",
   "metadata": {},
   "outputs": [
    {
     "name": "stdout",
     "output_type": "stream",
     "text": [
      "1\n",
      "['X', '-', 'X']\n"
     ]
    }
   ],
   "source": [
    "lnumbers = [1,2,3,4,5,6,7,8,9]\n",
    "l = ['X','-','X','-','-','-','-','-','-']\n",
    "L1 = [l[0],l[1],l[2]]\n",
    "L2 = [l[3],l[4],l[5]]\n",
    "L3 = [l[6],l[7],l[8]]\n",
    "C1 = [l[0],l[3],l[6]]\n",
    "C2 = [l[1],l[4],l[7]]\n",
    "C3 = [l[2],l[5],l[8]]\n",
    "D1 = [l[0],l[4],l[8]]\n",
    "D2 = [l[2],l[4],l[6]]\n",
    "R = [L1,L2,L3,C1,C2,C3,D1,D2]\n",
    "C = [l[0],l[2],l[6],l[8]]\n",
    "S = [l[1],l[3],l[5],l[7]]\n",
    "squares = [l[0],l[1],l[2],l[3],l[4],l[5],l[6],l[7],l[8]]\n",
    "turn = 0\n",
    "def grid(l):\n",
    "    print(' ',l[0],' | ',l[1],' | ',l[2],' \\n ',l[3],' | ',l[4],' | ',l[5],' \\n ',l[6],' | ',l[7],' | ',l[8])\n",
    "    return\n",
    "\n",
    "def check_win(x):\n",
    "    lignes = [l for l in R if l.count(x) == 2 and l.count('-') == 1]\n",
    "    if len(lignes) > 0:\n",
    "        r = [lignes[0].index('-'),R.index(lignes[0])]\n",
    "        if r[1] == 0:\n",
    "            result = lignes[0].index('-')\n",
    "        \n",
    "    else :\n",
    "        result = False\n",
    "    \n",
    "    return result\n",
    "    \n",
    "    \n",
    "print(check_win('X'))\n",
    "print(L1)"
   ]
  },
  {
   "cell_type": "code",
   "execution_count": 120,
   "id": "f2fa096f",
   "metadata": {},
   "outputs": [
    {
     "name": "stdout",
     "output_type": "stream",
     "text": [
      "['X', '-', 'X']\n"
     ]
    }
   ],
   "source": [
    "lnumbers = [1,2,3,4,5,6,7,8,9]\n",
    "l = ['X','-','X','-','-','-','-','-','-']\n",
    "L1 = [l[0],l[1],l[2]]\n",
    "L2 = [l[3],l[4],l[5]]\n",
    "L3 = [l[6],l[7],l[8]]\n",
    "C1 = [l[0],l[3],l[6]]\n",
    "C2 = [l[1],l[4],l[7]]\n",
    "C3 = [l[2],l[5],l[8]]\n",
    "D1 = [l[0],l[4],l[8]]\n",
    "D2 = [l[2],l[4],l[6]]\n",
    "R = [L1,L2,L3,C1,C2,C3,D1,D2]\n",
    "C = [l[0],l[2],l[6],l[8]]\n",
    "S = [l[1],l[3],l[5],l[7]]\n",
    "squares = [l[0],l[1],l[2],l[3],l[4],l[5],l[6],l[7],l[8]]\n",
    "print(L1)"
   ]
  },
  {
   "cell_type": "code",
   "execution_count": null,
   "id": "bebf2484",
   "metadata": {},
   "outputs": [],
   "source": [
    "lnumbers = [1,2,3,4,5,6,7,8,9]\n",
    "l = ['X','0','-','-','-','-','-','-','X']\n",
    "L1 = [l[0],l[1],l[2]]\n",
    "L2 = [l[3],l[4],l[5]]\n",
    "L3 = [l[6],l[7],l[8]]\n",
    "C1 = [l[0],l[3],l[6]]\n",
    "C2 = [l[1],l[4],l[7]]\n",
    "C3 = [l[2],l[5],l[8]]\n",
    "D1 = [l[0],l[4],l[8]]\n",
    "D2 = [l[2],l[4],l[6]]\n",
    "R = [L1,L2,L3,C1,C2,C3,D1,D2]\n",
    "C = [l[0],l[2],l[6],l[8]]\n",
    "S = [l[1],l[3],l[5],l[7]]\n",
    "squares = [l[0],l[1],l[2],l[3],l[4],l[5],l[6],l[7],l[8]]\n",
    "turn = 0\n",
    "def grid(l):\n",
    "    print(' ',l[0],' | ',l[1],' | ',l[2],' \\n ',l[3],' | ',l[4],' | ',l[5],' \\n ',l[6],' | ',l[7],' | ',l[8])\n",
    "    return\n",
    "\n",
    "def check_win(x):\n",
    "    #count winning move for 'x':\n",
    "    cx = [l for l in R if l.count(x) == 2 and l.count('-') == 1]\n",
    "    print('cx = ',cx)\n",
    "    if len(cx) > 0 :\n",
    "        r = [cx[0].index('-'),R.index(cx[0])]\n",
    "        if r[1] == 0:\n",
    "            result = cx[0].index('-')\n",
    "        elif r[1] == 1:\n",
    "            result = cx[O].index('-')+3\n",
    "        elif r[1] == 2:\n",
    "            result = cx[0].index('-')+6\n",
    "        elif r[1] == 3:\n",
    "            result = cx[0].index('-')*3\n",
    "        elif r[1] == 4:\n",
    "            result = cx[0].index('-')*3+1\n",
    "        elif r[1] == 4:\n",
    "            result = cx[0].index('-')*3+2   \n",
    "    else:\n",
    "        result = 100\n",
    "    return result\n",
    "print(check_win('X'))\n"
   ]
  },
  {
   "cell_type": "code",
   "execution_count": 143,
   "id": "05ead086",
   "metadata": {},
   "outputs": [
    {
     "name": "stdout",
     "output_type": "stream",
     "text": [
      "[['X', '-', 'X']]\n",
      "[['X', '0', '-'], ['-', '-', '-'], ['-', '-', 'X'], ['X', '-', '-'], ['0', '-', '-'], ['-', '-', 'X'], ['X', '-', 'X'], ['-', '-', '-']]\n"
     ]
    },
    {
     "data": {
      "text/plain": [
       "6"
      ]
     },
     "execution_count": 143,
     "metadata": {},
     "output_type": "execute_result"
    }
   ],
   "source": [
    "lnumbers = [1,2,3,4,5,6,7,8,9]\n",
    "l = ['X','0','-','-','-','-','-','-','X']\n",
    "L1 = [l[0],l[1],l[2]]\n",
    "L2 = [l[3],l[4],l[5]]\n",
    "L3 = [l[6],l[7],l[8]]\n",
    "C1 = [l[0],l[3],l[6]]\n",
    "C2 = [l[1],l[4],l[7]]\n",
    "C3 = [l[2],l[5],l[8]]\n",
    "D1 = [l[0],l[4],l[8]]\n",
    "D2 = [l[2],l[4],l[6]]\n",
    "R = [L1,L2,L3,C1,C2,C3,D1,D2]\n",
    "C = [l[0],l[2],l[6],l[8]]\n",
    "S = [l[1],l[3],l[5],l[7]]\n",
    "squares = [l[0],l[1],l[2],l[3],l[4],l[5],l[6],l[7],l[8]]\n",
    "turn = 0\n",
    "def grid(l):\n",
    "    print(' ',l[0],' | ',l[1],' | ',l[2],' \\n ',l[3],' | ',l[4],' | ',l[5],' \\n ',l[6],' | ',l[7],' | ',l[8])\n",
    "    return\n",
    "\n",
    "def check_win(x):\n",
    "    #count winning move for 'x':\n",
    "    result = [l for l in R if l.count(x) == 2 and l.count('-') == 1]\n",
    "    \n",
    "    return result\n",
    "print(check_win('X'))\n",
    "print(R)\n",
    "R.index(check_win('X')[0])"
   ]
  },
  {
   "cell_type": "code",
   "execution_count": 156,
   "id": "921e7f3b",
   "metadata": {},
   "outputs": [
    {
     "name": "stdout",
     "output_type": "stream",
     "text": [
      "cx =  [['X', '-', 'X']]\n"
     ]
    },
    {
     "data": {
      "text/plain": [
       "4"
      ]
     },
     "execution_count": 156,
     "metadata": {},
     "output_type": "execute_result"
    }
   ],
   "source": [
    "lnumbers = [1,2,3,4,5,6,7,8,9]\n",
    "l = ['X','-','0','-','-','-','-','-','X']\n",
    "L1 = [l[0],l[1],l[2]]\n",
    "L2 = [l[3],l[4],l[5]]\n",
    "L3 = [l[6],l[7],l[8]]\n",
    "C1 = [l[0],l[3],l[6]]\n",
    "C2 = [l[1],l[4],l[7]]\n",
    "C3 = [l[2],l[5],l[8]]\n",
    "D1 = [l[0],l[4],l[8]]\n",
    "D2 = [l[2],l[4],l[6]]\n",
    "R = [L1,L2,L3,C1,C2,C3,D1,D2]\n",
    "C = [l[0],l[2],l[6],l[8]]\n",
    "S = [l[1],l[3],l[5],l[7]]\n",
    "squares = [l[0],l[1],l[2],l[3],l[4],l[5],l[6],l[7],l[8]]\n",
    "turn = 0\n",
    "def grid(l):\n",
    "    print(' ',l[0],' | ',l[1],' | ',l[2],' \\n ',l[3],' | ',l[4],' | ',l[5],' \\n ',l[6],' | ',l[7],' | ',l[8])\n",
    "    return\n",
    "\n",
    "def check_win(x):\n",
    "    #count winning move for 'x':\n",
    "    cx = [l for l in R if l.count(x) == 2 and l.count('-') == 1]\n",
    "    print('cx = ',cx)\n",
    "    if len(cx) != 0 :\n",
    "        r = [cx[0].index('-'),R.index(cx[0])]\n",
    "        if r[1] == 0:\n",
    "            result = cx[0].index('-')\n",
    "        elif r[1] == 1:\n",
    "            result = cx[0].index('-')+3\n",
    "        elif r[1] == 2:\n",
    "            result = cx[0].index('-')+6\n",
    "        elif r[1] == 3:\n",
    "            result = cx[0].index('-')*3\n",
    "        elif r[1] == 4:\n",
    "            result = cx[0].index('-')*3+1\n",
    "        elif r[1] == 5:\n",
    "            result = cx[0].index('-')*3+2 \n",
    "        elif r[1] == 6:\n",
    "            if cx[0].index('-') == 0:\n",
    "                result = 0\n",
    "            elif cx[0].index('-') == 1 :\n",
    "                result = 4\n",
    "            elif cx[0].index('-') == 2 :\n",
    "                result = 8\n",
    "        elif r[1] == 6 :\n",
    "            if cx[0].index('-') == 0:\n",
    "                result = 2\n",
    "            elif cx[0].index('-') == 1 :\n",
    "                result = 4\n",
    "            elif cx[0].index('-') == 2 :\n",
    "                result = 6\n",
    "        \n",
    "    else:\n",
    "        result = False\n",
    "    return result\n",
    "check_win('X')"
   ]
  },
  {
   "cell_type": "code",
   "execution_count": null,
   "id": "8feed99a",
   "metadata": {},
   "outputs": [],
   "source": []
  }
 ],
 "metadata": {
  "kernelspec": {
   "display_name": "Python 3 (ipykernel)",
   "language": "python",
   "name": "python3"
  },
  "language_info": {
   "codemirror_mode": {
    "name": "ipython",
    "version": 3
   },
   "file_extension": ".py",
   "mimetype": "text/x-python",
   "name": "python",
   "nbconvert_exporter": "python",
   "pygments_lexer": "ipython3",
   "version": "3.9.13"
  }
 },
 "nbformat": 4,
 "nbformat_minor": 5
}
